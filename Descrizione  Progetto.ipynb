{
 "cells": [
  {
   "cell_type": "markdown",
   "metadata": {},
   "source": [
    "# Serie di Seminari su Python \n",
    "\n",
    "## Progetto finale"
   ]
  },
  {
   "cell_type": "markdown",
   "metadata": {},
   "source": [
    "**Raffaele Mura <br/>\n",
    "Matricola 70/89/00373<br/>\n",
    "CdS IEEI curriculum informatica**<br/>\n",
    "\n",
    "\n",
    "\n",
    "#### Progetto scelto:  \n",
    "Analisi di serie storiche economiche (es. indici di borsa)\n",
    "\n",
    "Variante 2. Preprocessing dei dati. In questo caso occorre concentrarsi sulle attività di\n",
    "preprocessing finalizzate a generare I campioni da utilizzare (es. varie medie mobili, up\n",
    "trend, down trend, ecc.)."
   ]
  },
  {
   "cell_type": "markdown",
   "metadata": {},
   "source": [
    "#### Introduzione\n",
    "\n",
    "Il progetto si basa principalmente sulla pre elaborazione dei dati di un dataset, rendendo questi più fruibili da parte di determinati algoritmi di ML il cui fine è predire l'evoluzione futura dei dati stessi.<br/>\n",
    "Il dataset utilizzato contiene i dati storici, degli ultimi trent'anni, dell'indice di borsa NASDAQ, che è essanzialmente l'indice dei principali titoli tecnologici della borsa americana. <br/>\n",
    "Il dataset è disponibile sulla piattaforma Yahoo Finanza a questo link: https://it.finance.yahoo.com/quote/%5EIXIC/history?p=%5EIXIC <br/>\n",
    "Il progetto è suddiviso in due file.py dal nome `preprocessing.py` e `train&predict`"
   ]
  },
  {
   "cell_type": "markdown",
   "metadata": {},
   "source": [
    "Prima di passare all'elaborazione dei dati è utile fare una prima esplorazione di questi:\n"
   ]
  },
  {
   "cell_type": "code",
   "execution_count": 138,
   "metadata": {},
   "outputs": [],
   "source": [
    "import pandas as pd\n",
    "\n",
    "df=pd.read_csv(\"30Y^IXIC.csv\")\n"
   ]
  },
  {
   "cell_type": "code",
   "execution_count": 139,
   "metadata": {},
   "outputs": [
    {
     "data": {
      "text/html": [
       "<div>\n",
       "<style scoped>\n",
       "    .dataframe tbody tr th:only-of-type {\n",
       "        vertical-align: middle;\n",
       "    }\n",
       "\n",
       "    .dataframe tbody tr th {\n",
       "        vertical-align: top;\n",
       "    }\n",
       "\n",
       "    .dataframe thead th {\n",
       "        text-align: right;\n",
       "    }\n",
       "</style>\n",
       "<table border=\"1\" class=\"dataframe\">\n",
       "  <thead>\n",
       "    <tr style=\"text-align: right;\">\n",
       "      <th></th>\n",
       "      <th>Date</th>\n",
       "      <th>Open</th>\n",
       "      <th>High</th>\n",
       "      <th>Low</th>\n",
       "      <th>Close</th>\n",
       "      <th>Adj Close</th>\n",
       "      <th>Volume</th>\n",
       "    </tr>\n",
       "  </thead>\n",
       "  <tbody>\n",
       "    <tr>\n",
       "      <th>0</th>\n",
       "      <td>1990-02-05</td>\n",
       "      <td>422.899994</td>\n",
       "      <td>424.799988</td>\n",
       "      <td>422.399994</td>\n",
       "      <td>424.700012</td>\n",
       "      <td>424.700012</td>\n",
       "      <td>108350000</td>\n",
       "    </tr>\n",
       "    <tr>\n",
       "      <th>1</th>\n",
       "      <td>1990-02-06</td>\n",
       "      <td>425.000000</td>\n",
       "      <td>425.200012</td>\n",
       "      <td>422.200012</td>\n",
       "      <td>424.000000</td>\n",
       "      <td>424.000000</td>\n",
       "      <td>119700000</td>\n",
       "    </tr>\n",
       "    <tr>\n",
       "      <th>2</th>\n",
       "      <td>1990-02-07</td>\n",
       "      <td>422.000000</td>\n",
       "      <td>426.899994</td>\n",
       "      <td>421.799988</td>\n",
       "      <td>426.799988</td>\n",
       "      <td>426.799988</td>\n",
       "      <td>149300000</td>\n",
       "    </tr>\n",
       "    <tr>\n",
       "      <th>3</th>\n",
       "      <td>1990-02-08</td>\n",
       "      <td>428.799988</td>\n",
       "      <td>430.200012</td>\n",
       "      <td>427.100006</td>\n",
       "      <td>427.299988</td>\n",
       "      <td>427.299988</td>\n",
       "      <td>140030000</td>\n",
       "    </tr>\n",
       "    <tr>\n",
       "      <th>4</th>\n",
       "      <td>1990-02-09</td>\n",
       "      <td>428.700012</td>\n",
       "      <td>429.100006</td>\n",
       "      <td>427.500000</td>\n",
       "      <td>428.799988</td>\n",
       "      <td>428.799988</td>\n",
       "      <td>125330000</td>\n",
       "    </tr>\n",
       "  </tbody>\n",
       "</table>\n",
       "</div>"
      ],
      "text/plain": [
       "         Date        Open        High         Low       Close   Adj Close  \\\n",
       "0  1990-02-05  422.899994  424.799988  422.399994  424.700012  424.700012   \n",
       "1  1990-02-06  425.000000  425.200012  422.200012  424.000000  424.000000   \n",
       "2  1990-02-07  422.000000  426.899994  421.799988  426.799988  426.799988   \n",
       "3  1990-02-08  428.799988  430.200012  427.100006  427.299988  427.299988   \n",
       "4  1990-02-09  428.700012  429.100006  427.500000  428.799988  428.799988   \n",
       "\n",
       "      Volume  \n",
       "0  108350000  \n",
       "1  119700000  \n",
       "2  149300000  \n",
       "3  140030000  \n",
       "4  125330000  "
      ]
     },
     "execution_count": 139,
     "metadata": {},
     "output_type": "execute_result"
    }
   ],
   "source": [
    "df.head()"
   ]
  },
  {
   "cell_type": "code",
   "execution_count": 140,
   "metadata": {},
   "outputs": [
    {
     "data": {
      "text/plain": [
       "(7738, 7)"
      ]
     },
     "execution_count": 140,
     "metadata": {},
     "output_type": "execute_result"
    }
   ],
   "source": [
    "df.shape"
   ]
  },
  {
   "cell_type": "code",
   "execution_count": 141,
   "metadata": {},
   "outputs": [
    {
     "data": {
      "text/html": [
       "<div>\n",
       "<style scoped>\n",
       "    .dataframe tbody tr th:only-of-type {\n",
       "        vertical-align: middle;\n",
       "    }\n",
       "\n",
       "    .dataframe tbody tr th {\n",
       "        vertical-align: top;\n",
       "    }\n",
       "\n",
       "    .dataframe thead th {\n",
       "        text-align: right;\n",
       "    }\n",
       "</style>\n",
       "<table border=\"1\" class=\"dataframe\">\n",
       "  <thead>\n",
       "    <tr style=\"text-align: right;\">\n",
       "      <th></th>\n",
       "      <th>Open</th>\n",
       "      <th>High</th>\n",
       "      <th>Low</th>\n",
       "      <th>Close</th>\n",
       "      <th>Adj Close</th>\n",
       "      <th>Volume</th>\n",
       "    </tr>\n",
       "  </thead>\n",
       "  <tbody>\n",
       "    <tr>\n",
       "      <th>count</th>\n",
       "      <td>7738.000000</td>\n",
       "      <td>7738.000000</td>\n",
       "      <td>7738.000000</td>\n",
       "      <td>7738.000000</td>\n",
       "      <td>7738.000000</td>\n",
       "      <td>7.738000e+03</td>\n",
       "    </tr>\n",
       "    <tr>\n",
       "      <th>mean</th>\n",
       "      <td>2870.677581</td>\n",
       "      <td>2890.186091</td>\n",
       "      <td>2848.310780</td>\n",
       "      <td>2870.522117</td>\n",
       "      <td>2870.522117</td>\n",
       "      <td>1.498975e+09</td>\n",
       "    </tr>\n",
       "    <tr>\n",
       "      <th>std</th>\n",
       "      <td>2239.956536</td>\n",
       "      <td>2254.040134</td>\n",
       "      <td>2224.353129</td>\n",
       "      <td>2240.452889</td>\n",
       "      <td>2240.452889</td>\n",
       "      <td>8.803126e+08</td>\n",
       "    </tr>\n",
       "    <tr>\n",
       "      <th>min</th>\n",
       "      <td>325.100006</td>\n",
       "      <td>327.899994</td>\n",
       "      <td>323.000000</td>\n",
       "      <td>325.399994</td>\n",
       "      <td>325.399994</td>\n",
       "      <td>4.421000e+07</td>\n",
       "    </tr>\n",
       "    <tr>\n",
       "      <th>25%</th>\n",
       "      <td>1347.580017</td>\n",
       "      <td>1362.427460</td>\n",
       "      <td>1335.025024</td>\n",
       "      <td>1348.342529</td>\n",
       "      <td>1348.342529</td>\n",
       "      <td>6.686875e+08</td>\n",
       "    </tr>\n",
       "    <tr>\n",
       "      <th>50%</th>\n",
       "      <td>2205.275024</td>\n",
       "      <td>2222.915039</td>\n",
       "      <td>2188.080078</td>\n",
       "      <td>2207.859985</td>\n",
       "      <td>2207.859985</td>\n",
       "      <td>1.706930e+09</td>\n",
       "    </tr>\n",
       "    <tr>\n",
       "      <th>75%</th>\n",
       "      <td>3767.789917</td>\n",
       "      <td>3798.609985</td>\n",
       "      <td>3725.467590</td>\n",
       "      <td>3770.192383</td>\n",
       "      <td>3770.192383</td>\n",
       "      <td>2.022478e+09</td>\n",
       "    </tr>\n",
       "    <tr>\n",
       "      <th>max</th>\n",
       "      <td>12047.259766</td>\n",
       "      <td>12074.059570</td>\n",
       "      <td>11836.179688</td>\n",
       "      <td>12056.440430</td>\n",
       "      <td>12056.440430</td>\n",
       "      <td>7.279230e+09</td>\n",
       "    </tr>\n",
       "  </tbody>\n",
       "</table>\n",
       "</div>"
      ],
      "text/plain": [
       "               Open          High           Low         Close     Adj Close  \\\n",
       "count   7738.000000   7738.000000   7738.000000   7738.000000   7738.000000   \n",
       "mean    2870.677581   2890.186091   2848.310780   2870.522117   2870.522117   \n",
       "std     2239.956536   2254.040134   2224.353129   2240.452889   2240.452889   \n",
       "min      325.100006    327.899994    323.000000    325.399994    325.399994   \n",
       "25%     1347.580017   1362.427460   1335.025024   1348.342529   1348.342529   \n",
       "50%     2205.275024   2222.915039   2188.080078   2207.859985   2207.859985   \n",
       "75%     3767.789917   3798.609985   3725.467590   3770.192383   3770.192383   \n",
       "max    12047.259766  12074.059570  11836.179688  12056.440430  12056.440430   \n",
       "\n",
       "             Volume  \n",
       "count  7.738000e+03  \n",
       "mean   1.498975e+09  \n",
       "std    8.803126e+08  \n",
       "min    4.421000e+07  \n",
       "25%    6.686875e+08  \n",
       "50%    1.706930e+09  \n",
       "75%    2.022478e+09  \n",
       "max    7.279230e+09  "
      ]
     },
     "execution_count": 141,
     "metadata": {},
     "output_type": "execute_result"
    }
   ],
   "source": [
    "df.describe()"
   ]
  },
  {
   "cell_type": "markdown",
   "metadata": {},
   "source": [
    "Abbiamo un dataset formato da 7738 istanze e 7 features."
   ]
  },
  {
   "cell_type": "markdown",
   "metadata": {},
   "source": [
    "# `preprocessing.py`\n",
    "\n",
    "Dopo aver capito la 'forma' del dataset, eseguiamo la pre elaborazione dei dati.<br/>\n",
    "Si descriverà passo passo il file di preprocessing."
   ]
  },
  {
   "cell_type": "code",
   "execution_count": 142,
   "metadata": {},
   "outputs": [],
   "source": [
    "#importo le librerie\n",
    "import pandas as pd\n",
    "from sklearn import preprocessing as sklp"
   ]
  },
  {
   "cell_type": "markdown",
   "metadata": {},
   "source": [
    "Ora si implementerà una prima funzione il cui fine è interfacciare le varie funzioni del file.py con il dataset <br/>\n",
    "La variabile fn sta per filename e contine il nome del csv. <br/>\n",
    "Si susseguono poi una serie di chiamate a funzioni il cui fine verrà riportato subito sotto.<br/>\n",
    "L'assegnazione `X=X.to_numpy()` ha l'utilità di restiruire una rappresentazione 'Numpy' del DataFrame, con al suo interno solo i valori del DataFrame senza le labels. "
   ]
  },
  {
   "cell_type": "code",
   "execution_count": 143,
   "metadata": {},
   "outputs": [],
   "source": [
    "def main():\n",
    "  \n",
    "    fn=\"30Y^IXIC.csv\"\n",
    "  \n",
    "    df=Csv_to_df(fn)\n",
    "    df=useful_features(df)\n",
    "    df=target(df)\n",
    "    df=clean_df(df)\n",
    "    df=more_features(df)\n",
    "  \n",
    "    X,y=create_Xy(df)\n",
    "  \n",
    "    X=X.to_numpy()\n",
    "    y=y.to_numpy()\n",
    "  \n",
    " \n",
    "    X_train,y_train,X_test,y_test=split(X,y)\n",
    "  \n",
    "    X_train=scaling(X_train)\n",
    "    X_test=scaling(X_test)\n",
    "    y_train=scaling(y_train)\n",
    "    y_test=scaling(y_test)\n",
    "  \n",
    "    df_to_csv(df=pd.DataFrame(X_train), fn=\"NASDAQ_X_train.csv\")\n",
    "    df_to_csv(df=pd.DataFrame(y_train), fn=\"NASDAQ_y_train.csv\")\n",
    "    df_to_csv(df=pd.DataFrame(X_test), fn=\"NASDAQ_X_test.csv\")\n",
    "    df_to_csv(df=pd.DataFrame(y_test), fn=\"NASDAQ_y_test.csv\")\n",
    "  "
   ]
  },
  {
   "cell_type": "markdown",
   "metadata": {},
   "source": [
    "La funzione `Csv_to_df`, che prende in ingresso il nome del file, crea df che sarà la variabile che referenzia il nostro dataset."
   ]
  },
  {
   "cell_type": "code",
   "execution_count": 144,
   "metadata": {},
   "outputs": [],
   "source": [
    "def Csv_to_df(fn):\n",
    "    \n",
    "    df=pd.read_csv(fn)\n",
    "    return df"
   ]
  },
  {
   "cell_type": "markdown",
   "metadata": {},
   "source": [
    "La funzione `useful_features` ha il fine di aggiungere delle nuove features al dataset.<br/>\n",
    "Il dataset in questione ora contiene solo dei valori in termini di 'prezzo', ma i prezzi non sono la metrica che cercheremo di prevedere perchè sono misurati in termini assoluti e quindi più difficili da confrontare nel tempo.<br/>\n",
    "Cercheremo di predire i rendimenti giornalieri. Così creremo una colonna 'returns' che poi assegneremo al target, in modo tale da cercare di predire i rendimenti del giorno successivo.<br/> In modo simile tratteremo le colonne di Open, High e Low."
   ]
  },
  {
   "cell_type": "code",
   "execution_count": 145,
   "metadata": {},
   "outputs": [],
   "source": [
    "def useful_features(df):\n",
    "    \n",
    "    \n",
    "    df[\"Return\"]=df.Close/df.Close.shift(1)\n",
    "    df[\"Close_open\"]=df.Close/df.Open\n",
    "    df[\"Close_high\"]=df.Close/df.High\n",
    "    df[\"Close_low\"]=df.Close/df.Low\n",
    "    df=df.iloc[1:]\n",
    "    return df\n",
    "\n",
    "\n",
    "def target(df):\n",
    "  \n",
    "    df[\"y\"]=df.Return.shift(-1)\n",
    "  \n",
    "    return df\n"
   ]
  },
  {
   "cell_type": "markdown",
   "metadata": {},
   "source": [
    "La funzione `clean_df` delega la funzione `missing` che trova i punti del dataframe in cui ci sono elementi mancanti e li 'riempe' con il metodo \"ffill\" ovvero con il valore dell'elemento che precede quello mancante.<br/>\n",
    "`clean_df` ora ha il solo fine di chimare `missing`, ma le operazioni di 'pulizia' del dataframe possono essere numerose, e potrebbero essere implementate in un futuro prossimo."
   ]
  },
  {
   "cell_type": "code",
   "execution_count": 146,
   "metadata": {},
   "outputs": [],
   "source": [
    "def clean_df(df):\n",
    "  \n",
    "    df=missing(df)\n",
    "  \n",
    "    return df\n",
    "\n",
    "def missing(df):\n",
    "  \n",
    "    c=df.isnull().sum()\n",
    "  \n",
    "    if sum(c)==0:\n",
    "        return df\n",
    "    else:\n",
    "        df=df.fillna(method=\"ffill\", axis=0).fillna(\"0\")\n",
    "    \n",
    "    return df"
   ]
  },
  {
   "cell_type": "markdown",
   "metadata": {},
   "source": [
    "Tramite `more_features` aggiungeremo delle colonne al nostro dataset il cui contenuto vede la rielaborazione dei prezzi, dei rendimenti e del volume, in modo tale da creare dei dati più utili agli algoritmi di ML. <br/>\n",
    "Il sito https://stockcharts.com è stato preso come riferimento per la comprensione e il calcolo delle nuove features.\n"
   ]
  },
  {
   "cell_type": "code",
   "execution_count": 147,
   "metadata": {},
   "outputs": [],
   "source": [
    "def more_features(df):\n",
    "  \n",
    "    df=trend(df)\n",
    "    df=momentum(df)\n",
    "    df=volatility(df)\n",
    "    df=volume(df)\n",
    "  \n",
    "    return df"
   ]
  },
  {
   "cell_type": "markdown",
   "metadata": {},
   "source": [
    "## Trend Features\n",
    "\n",
    "### Moverage averages \n",
    "\n",
    "Le medie mobili uniformano i dati sui prezzi per formare un indicatore che segue la tendenza. Non prevedono la direzione dei prezzi, ma piuttosto definiscono la direzione corrente, sebbene siano in ritardo a causa del fatto che si basano sui prezzi passati. Nonostante ciò, le medie mobili aiutano ad attenuare l'azione dei prezzi e a filtrare il rumore. I due tipi più popolari di medie mobili sono la media mobile semplice (SMA) e la media mobile esponenziale (EMA).\n",
    "\n",
    "Una media mobile semplice si forma calcolando il prezzo medio di un titolo su un numero specifico di periodi. La maggior parte delle medie mobili si basa sui prezzi di chiusura; ad esempio, una media mobile semplice di 5 giorni è la somma di cinque giorni dei prezzi di chiusura divisa per cinque. Come suggerisce il nome, una media mobile è una media che si muove. I vecchi dati vengono eliminati non appena diventano disponibili nuovi dati, facendo sì che la media si sposti lungo la scala temporale.\n",
    "\n",
    "### Exponential Moving average\n",
    "\n",
    "Le medie mobili esponenziali (EMA) riducono il ritardo applicando più peso ai prezzi recenti. La ponderazione applicata al prezzo più recente dipende dal numero di periodi nella media mobile. Gli EMA differiscono dalle medie mobili semplici in quanto il calcolo dell'EMA di un dato giorno dipende dai calcoli dell'EMA per tutti i giorni precedenti a quel giorno. Sono necessari molti più di 10 giorni di dati per calcolare un'EMA a 10 giorni ragionevolmente accurata.\n",
    "\n",
    "Ci sono tre passaggi per calcolare una media mobile esponenziale (EMA). Innanzitutto, si calcola la media mobile semplice per il valore EMA iniziale. Una media mobile esponenziale (EMA) deve iniziare da qualche parte, quindi una media mobile semplice viene utilizzata come EMA del periodo precedente nel primo calcolo. In secondo luogo, si calcola il moltiplicatore di ponderazione. Terzo, si calcola la media mobile esponenziale per ogni giorno tra il valore EMA iniziale e oggi, utilizzando il prezzo, il moltiplicatore e il valore EMA del periodo precedente. \n",
    "\n",
    "### MACD\n",
    "L'oscillatore Moving Average Convergence / Divergence è uno degli indicatori di momentum più semplici ed efficaci disponibili. Il MACD trasforma due indicatori che seguono il trend, le medie mobili, in un oscillatore del momentum sottraendo la media mobile più lunga da quella più breve. Di conseguenza, il MACD offre il meglio di entrambi i mondi: trend following e momentum. Il MACD oscilla sopra e sotto la linea dello zero quando le medie mobili convergono, si incrociano e divergono. \n",
    "\n",
    "La linea MACD è la media mobile esponenziale (EMA) a 12 giorni meno l'EMA a 26 giorni. Per queste medie mobili vengono usati i prezzi di chiusura. Viene tracciata un'EMA a 9 giorni dalla linea MACD con l'indicatore che funge da linea di segnale e identifica le svolte. L'istogramma MACD rappresenta la differenza tra MACD e la sua EMA a 9 giorni, la linea di segnale. L'istogramma è positivo quando la linea MACD è sopra la sua linea di segnale e negativo quando la linea MACD è sotto la sua linea di segnale.\n",
    "\n",
    "I valori di 12, 26 e 9 sono le impostazioni tipiche utilizzate con il MACD, sebbene altri valori possano essere sostituiti a seconda del tuo stile di trading e dei tuoi obiettivi.\n",
    "\n",
    "N.B. `df.Close.rolling(...).mean()` restituisce la media dei valori interni alla moving window, di valore 50,200..<br/>\n",
    "`df.Close.ewm(com=(...)).mean()` fornisce una media ponderata esponenziale (EMA), specificando il decadimento in termini di centro di massa: å=1/(1+com), per com>=0 \n"
   ]
  },
  {
   "cell_type": "code",
   "execution_count": 148,
   "metadata": {},
   "outputs": [],
   "source": [
    "def trend(df):\n",
    "  \n",
    "    df=macd(df)\n",
    "    df=sma(df)\n",
    "  \n",
    "    return df\n",
    "\n",
    "def sma(df):\n",
    "  \n",
    "    df[\"sma50d\"]=df.Close.rolling(50).mean()\n",
    "    df[\"sma200d\"]=df.Close.rolling(200).mean()\n",
    "    df[\"sma50_200\"]=df.sma50d-df.sma200d\n",
    "  \n",
    "    return df\n",
    "\n",
    "def macd(df):\n",
    "  \n",
    "    ema12d=df.Close.ewm(com=(12-1)/2).mean()\n",
    "    ema26d=df.Close.ewm(com=(26-1)/2).mean()\n",
    "  \n",
    "    df[\"macd_line\"]=ema12d-ema26d\n",
    "    df[\"macd9d\"]=df.macd_line.ewm(com=(9-1)/2).mean()\n",
    "    df[\"macd_diff\"]=df.macd_line - df.macd9d\n",
    "  \n",
    "    return df\n"
   ]
  },
  {
   "cell_type": "markdown",
   "metadata": {},
   "source": [
    "## Momentum Features \n",
    "\n",
    "### Stochastic Oscillator\n",
    "\n",
    "Lo Stochastic Oscillator è un indicatore di momentum che mostra la relazione tra prezzo di chiusura più recente e il range dei prezzi di un determinato periodo. Lo Stochastic Oscillator segue la velocità o lo slancio del prezzo. Di regola, lo slancio cambia direzione prima del prezzo. Pertanto, le divergenze rialziste e ribassiste nell'oscillatore stocastico possono essere utilizzate per prefigurare inversioni. \n",
    "\n",
    "Calcolo\n",
    "% K = (Chiusura corrente - Minimo più basso) / (Massimo più alto - Minimo più basso) * 100\n",
    "% D = SMA a 3 giorni di% K\n",
    "\n",
    "L'impostazione predefinita per l'oscillatore stocastico è di 14 periodi, che possono essere giorni, settimane, mesi o un intervallo di tempo intraday. \n",
    "\n",
    "\n",
    "### Commodity channel Index\n",
    "\n",
    "Il Commodity Channel Index (CCI) è un indicatore versatile che può essere utilizzato per identificare una nuova tendenza o l'avvertire di condizioni estreme. In generale, il CCI misura il livello del prezzo corrente rispetto a un livello di prezzo medio in un dato periodo di tempo. Il CCI è relativamente alto quando i prezzi sono molto al di sopra della loro media, ma è relativamente basso quando i prezzi sono molto al di sotto della loro media.\n",
    "\n",
    "Il calcolo è riportato sotto nella funzione, dove `tp` sta per prezzo tipico e `mdev` per devizione media.\n",
    "\n"
   ]
  },
  {
   "cell_type": "code",
   "execution_count": 149,
   "metadata": {},
   "outputs": [],
   "source": [
    "def momentum(df):\n",
    "  \n",
    "    df=SO(df)\n",
    "    df=CCI(df)\n",
    " \n",
    "    return df\n",
    "\n",
    "def SO(df):\n",
    "  \n",
    "    periods=14\n",
    "  \n",
    "    df[\"SO\"]=(( df.Close - df.Close.rolling(periods).min()) \n",
    "            \n",
    "              /\n",
    "            \n",
    "              (df.Close.rolling(periods).max() - df.Close.rolling(periods).min()))*100\n",
    "  \n",
    "  \n",
    "    return df\n",
    "\n",
    "def CCI(df):\n",
    "  \n",
    "    tp=(df.High+df.Low+df.Close)/3\n",
    "  \n",
    "    mdev= abs(tp-tp.rolling(20).mean())/20\n",
    "  \n",
    "    df[\"CCI\"]=(tp-tp.rolling(20).mean()) / (0.015*mdev)\n",
    "  \n",
    "    return df"
   ]
  },
  {
   "cell_type": "markdown",
   "metadata": {},
   "source": [
    "## Volatily features\n",
    "\n",
    "### Bollinger bands\n",
    "\n",
    "Le Bollinger Bands sono bande di volatilità posizionate sopra e sotto una media mobile. La volatilità si basa sulla deviazione standard, che cambia all'aumentare e diminuire della volatilità stessa. Le bande si allargano automaticamente quando la volatilità aumenta e si contraggono quando la volatilità diminuisce.\n",
    "  \n",
    "### Average true range\n",
    "\n",
    "L'Average True Range (ATR) è un indicatore che misura la volatilità.\n",
    "In genere, l'Average True Range (ATR) si basa su 14 periodi e può essere calcolato su base infragiornaliera, giornaliera, settimanale o mensile. In questo caso, l'ATR sarà basato sui dati giornalieri. Poiché deve esserci un inizio, il primo valore TR è semplicemente l'Alto meno il Minimo, e il primo ATR di 14 giorni è la media dei valori TR giornalieri degli ultimi 14 giorni. "
   ]
  },
  {
   "cell_type": "code",
   "execution_count": 150,
   "metadata": {},
   "outputs": [],
   "source": [
    "def volatility(df):\n",
    "  \n",
    "    df[\"5d_vol\"]=df.Return.rolling(5).std()\n",
    "    df[\"21d_vol\"]=df.Return.rolling(21).std()\n",
    "    df[\"60d_vol\"]=df.Return.rolling(60).std()\n",
    "  \n",
    "    df=BB(df)\n",
    "    df=ATR(df)\n",
    "  \n",
    "    return df\n",
    "\n",
    "def BB(df):\n",
    "  \n",
    "    df[\"BB\"]=((df.Close-df.Close.rolling(21).mean())\n",
    "            \n",
    "              /\n",
    "            \n",
    "              2*df.Close.rolling(21).std())\n",
    "  \n",
    "    return df\n",
    "\n",
    "def ATR(df):\n",
    "  \n",
    "    h_l=df.High-df.Low\n",
    "    h_prevclose=df.High-df.Close.shift(-1)\n",
    "    l_prevclose=df.Low-df.Close.shift(-1)\n",
    "    tr=h_l.to_frame(\"hig_low\")\n",
    "    tr[\"high_prevclose\"]=h_prevclose\n",
    "    tr[\"low_prevclose\"]=l_prevclose\n",
    "    tr[\"tr\"]=tr.max(axis=1)\n",
    "    df[\"ATR\"]=tr[\"tr\"].rolling(14).mean()\n",
    "  \n",
    "    return df\n",
    "  "
   ]
  },
  {
   "cell_type": "markdown",
   "metadata": {},
   "source": [
    "## Volume features\n",
    "\n",
    "### On Balance Volume\n",
    "\n",
    "On Balance Volume (OBV) misura la pressione di acquisto e vendita come indicatore cumulativo, aggiungendo volume nei giorni in aumento e sottraendolo nei giorni in calo. \n",
    "\n",
    "La riga On Balance Volume (OBV) è semplicemente un totale progressivo di volume positivo e negativo. Il volume di un periodo è positivo quando la chiusura è superiore alla chiusura precedente ed è negativo quando la chiusura è inferiore alla chiusura precedente.\n",
    "\n",
    "Se il prezzo di chiusura è superiore al prezzo di chiusura precedente, allora:\n",
    "OBV corrente = OBV precedente + volume corrente\n",
    "\n",
    "Se il prezzo di chiusura è inferiore al prezzo di chiusura precedente, allora:\n",
    "OBV corrente = OBV precedente - Volume corrente\n",
    "\n",
    "Se i prezzi di chiusura sono uguali al prezzo di chiusura precedente, allora:\n",
    "OBV corrente = OBV precedente (nessuna modifica)\n",
    "\n",
    "\n",
    "### Chaikin Oscillator\n",
    "\n",
    "Il Chaikin Oscillator misura il momentum della linea di accumulazione/distribuzione utilizzando il MACD. \n",
    "Il Chaikin Oscillator è la differenza tra gli EMA a 3 e 10 giorni della linea di accumulazione/distribuzione. Come altri indicatori di momentum, questo indicatore è progettato per anticipare i cambiamenti direzionali nella linea di accumulazione/distribuzione. Un cambiamento di momentum è il primo passo verso un cambiamento di tendenza. \n",
    "\n",
    "Il calcolo della linea di accumulazione/distribuzione (ADL) è il primo passo per ottenere il Chaikin Oscillator. Innanzitutto, si calcola il moltiplicatore del flusso di denaro. Secondo, si moltiplica questo valore per il volume per trovare il volume del flusso di denaro. Terzo, si crea un totale parziale del volume del flusso di denaro per formare la linea. Quarto, si prende la differenza tra due medie mobili per calcolare l'oscillatore.\n"
   ]
  },
  {
   "cell_type": "code",
   "execution_count": 151,
   "metadata": {},
   "outputs": [],
   "source": [
    "def volume(df):\n",
    "    \n",
    "    df[\"v_rolling\"]=df.Volume/df.Volume.shift(21)\n",
    "    df=OBV(df)\n",
    "    df=CHKO(df)\n",
    "  \n",
    "    return df\n",
    "\n",
    "def OBV(df):\n",
    "  \n",
    "    df[\"odds\"]=df.Close.shift(1)-df.Close\n",
    "    df[\"OBV\"]=df[\"Volume\"]\n",
    "    df.OBV=df.apply(lambda row: row.Volume*-1 if row.odds<0 else row.Volume, axis=1)\n",
    "    df.OBV=df.OBV.cumsum()\n",
    "  \n",
    "    return df\n",
    "\n",
    "def CHKO(df):\n",
    "  \n",
    "    flow_mult=((df.Close-df.Low)/ (df.High-df.Low))/(df.High-df.Low)\n",
    "    flow_vol=df.Volume*flow_mult\n",
    "    adl=flow_vol.cumsum()\n",
    "    df[\"CHKO\"]=adl.ewm(com=(3-1)/2).mean()-adl.ewm(com=(10-1)/2).mean()\n",
    "  \n",
    "    return df\n"
   ]
  },
  {
   "cell_type": "markdown",
   "metadata": {},
   "source": [
    "Nella funzione `create_Xy` divido la table delle features dal vettore target.\n",
    "Prendo i dati dal duecentesimo in poi date le pre elaborazioni fatte che necessitano 'dello scorrere del tempo' per essere a regime. "
   ]
  },
  {
   "cell_type": "code",
   "execution_count": 152,
   "metadata": {},
   "outputs": [],
   "source": [
    "def create_Xy(df):\n",
    "  \n",
    "    X=df.loc[200:len(df)-1, [\"Close_open\",\"Close_high\",\"Close_low\",\n",
    "                             \"sma50_200\",\"macd_diff\",\"SO\",\"CCI\",\"5d_vol\",\"21d_vol\",\"60d_vol\"\n",
    "                             ,\"BB\",\"ATR\",\"OBV\",\"CHKO\"]]\n",
    "    y=df.loc[200:len(df)-1, [\"y\"]]\n",
    "\n",
    "    return X,y\n"
   ]
  },
  {
   "cell_type": "markdown",
   "metadata": {},
   "source": [
    "In `split` Divido i dati in possesso in una parte utile all'addestramento dell'algoritmo e in un altrà che verificherà le performance di predizione dell'algoritmo stesso.<br/> Ovvero nella parte di training userò X_train e y_train per addestrare l'algoritmo, che data la table X_train ne verifica il conseguente target y_train. Nella parte di test l'algoritmo dopo aver 'capito' come i dati evolgono dalla table X al conseguente target y, cerca di predire l'y_test analizzando la table dell'X_test.<br/>\n",
    "N.B. Il metodo di splitting utilizzato evita la randomizzazione dei campioni."
   ]
  },
  {
   "cell_type": "code",
   "execution_count": 153,
   "metadata": {},
   "outputs": [],
   "source": [
    "def split(X,y):\n",
    "  \n",
    "    tt_split=5803\n",
    "    X_train=X[:tt_split]\n",
    "    y_train=X[:tt_split]\n",
    "    X_test=X[tt_split:]\n",
    "    y_test=X[tt_split:]\n",
    "  \n",
    "    return X_train,y_train,X_test,y_test\n"
   ]
  },
  {
   "cell_type": "markdown",
   "metadata": {},
   "source": [
    "Con `scaling` avviene il ridimensionamento delle features, con media 0 e varianza unitaria, per ridurre il tempo di apprendimento."
   ]
  },
  {
   "cell_type": "code",
   "execution_count": 154,
   "metadata": {},
   "outputs": [],
   "source": [
    "def scaling(df):\n",
    "  \n",
    "    model=sklp.StandardScaler().fit(df)\n",
    "    X=model.transform(df)\n",
    "    return X \n"
   ]
  },
  {
   "cell_type": "markdown",
   "metadata": {},
   "source": [
    "Salvo i dataset come file csv"
   ]
  },
  {
   "cell_type": "code",
   "execution_count": 155,
   "metadata": {},
   "outputs": [],
   "source": [
    "def df_to_csv(df,fn):\n",
    "    df.to_csv(fn, index=False)\n",
    "  "
   ]
  },
  {
   "cell_type": "code",
   "execution_count": 156,
   "metadata": {},
   "outputs": [],
   "source": [
    "#richiamo il main\n",
    "main()"
   ]
  },
  {
   "cell_type": "markdown",
   "metadata": {},
   "source": [
    "# `train&predict.py`\n",
    "\n",
    "Si utilizzano i dati elaborati e li si applica agli algoritmi scelti.<br/>\n",
    "Si utilizzeranno in primis algoritmi veloci e di facile interpretazione (Linear Regression) per poi aumentare la complessità (Decision Tree e Neural Networks)"
   ]
  },
  {
   "cell_type": "code",
   "execution_count": 157,
   "metadata": {},
   "outputs": [],
   "source": [
    "#importo le librerie\n",
    "import pandas as pd\n",
    "import matplotlib.pyplot as plt\n",
    "\n",
    "\n",
    "from sklearn.metrics import mean_absolute_error\n",
    "from sklearn.metrics import mean_squared_error\n",
    "from sklearn.metrics import r2_score\n",
    "from sklearn import linear_model\n",
    "from sklearn import tree\n",
    "from sklearn.neural_network import MLPRegressor\n"
   ]
  },
  {
   "cell_type": "markdown",
   "metadata": {},
   "source": [
    "## Metriche performance: \n",
    "Dato l'utilizzo di algoritmi di regressione, per calcolare l'errore utilizzerò l'errore medio assoluto (MAE), l'errore quadratico medio (MSE) e e il coefficiente di determinazione R^2.<br/>\n",
    "Il MAE sarà la differenza tra il valore misurato e il valore vero, quindi come riportato più avanti, la differenza tra il target vero e il target predetto.<br/>\n",
    "L'MSE indica la discordanza quadratica media fra i valori dei dati osservati ed i valori dei dati stimati.<br/>\n",
    "L'R^2 rappresenta un indicatore che, partendo dalla retta di regressione, sintetizza in un unico valore di quanto la grandezza analizzata si discosta mediamente da tale retta. L’R-squared può assumere valori compresi fra 0 e 1.<br/> Se è pari a 1 allora esiste una perfetta relazione lineare fra il fenomeno analizzato e la sua retta di regressione.<br/>\n",
    "Se pari a 0 non esiste alcuna relazione lineare fra le due variabili mentre i valori compresi fra 0 e 1 forniscono una indicazione sulla efficacia della retta di regressione di sintetizzare l’oggetto dell’analisi."
   ]
  },
  {
   "cell_type": "code",
   "execution_count": 158,
   "metadata": {},
   "outputs": [],
   "source": [
    "def main2():\n",
    "  \n",
    "    X_train=Csv_to_df(\"NASDAQ_X_train.csv\")\n",
    "    X_test=Csv_to_df(\"NASDAQ_X_test.csv\")\n",
    "    y_train=Csv_to_df(\"NASDAQ_y_train.csv\")\n",
    "    y_test=Csv_to_df(\"NASDAQ_y_test.csv\")\n",
    "  \n",
    "    X_train = X_train.to_numpy()\n",
    "    X_test = X_test.to_numpy()\n",
    "    y_train = y_train.to_numpy()\n",
    "    y_test = y_test.to_numpy()\n",
    "  \n",
    "    Linear_Regression(X_train,y_train,X_test,y_test)\n",
    "    Decision_Tree(X_train,y_train,X_test,y_test)\n",
    "    Neural_Net(X_train,y_train,X_test,y_test)"
   ]
  },
  {
   "cell_type": "markdown",
   "metadata": {},
   "source": [
    "## Linear Regression\n",
    "L'algoritmo di Linear Regression si adatta ad un modello lineare con coefficienti w=(w1,...,wp) per minimizzare la somma residua di quadrati tra le risposte osservate nel dataset e le risposte previste dall'approssimazione lineare.<br/>\n",
    "In particolare la funzione subito sotto prende in ingresso i dataset e target di addestramento e test. <br/>\n",
    "Succesivamente scelto il modello viene addestrato tramite i dati di train, verrà poi predetto il target dai dati di train e calcolata la performance. Dopo di chè si predirrà il target con i valori di test e si calcolerà la performance."
   ]
  },
  {
   "cell_type": "code",
   "execution_count": 159,
   "metadata": {},
   "outputs": [],
   "source": [
    "def Linear_Regression(X_train,y_train,X_test,y_test):\n",
    "  \n",
    "    model=linear_model.LinearRegression()\n",
    "    model.fit(X_train,y_train)\n",
    "  \n",
    "    y_pred=model.predict(X_train)\n",
    "    mae_train,mse_train,r2_train=metrics(y_train,y_pred)\n",
    "  \n",
    "    y_pred=model.predict(X_test)\n",
    "    mae_test,mse_test,r2_test=metrics(y_test,y_pred)\n",
    "  \n",
    "    results=pd.DataFrame(columns=[\"MAE Train\",\"MSE Train\", \"R2 Train\",\"MAE Test\",\"MSE Test\", \"R2 Test\"])\n",
    "    results.loc[len(results)]=[mae_train,mse_train,r2_train,mae_test,mse_test,r2_test]\n",
    "    plotting(results,\"Linear Regression\")\n",
    "  \n",
    "    print(f'Linear Regression: Mae train:  {mae_train} - Mse train:   {mse_train} - R2 train:   {r2_train}')\n",
    "    print(f'Linear Regression: Mae test:  {mae_test} - Mse test:   {mse_test} - R2 test:   {r2_test}')"
   ]
  },
  {
   "cell_type": "markdown",
   "metadata": {},
   "source": [
    "## Decision Tree\n",
    "Gli alberi decisionali (DT) sono un metodo di apprendimento supervisionato non parametrico utilizzato per la classificazione e la regressione. L'obiettivo è creare un modello che preveda il valore di una variabile target apprendendo semplici regole decisionali dedotte dalle caratteristiche dei dati.\n",
    "\n",
    "Ad esempio, nell'esempio seguente, gli alberi decisionali imparano dai dati per approssimare una curva sinusoidale con un insieme di regole decisionali if-then-else. Più profondo è l'albero, più complesse sono le regole decisionali e più adatto è il modello.\n",
    "\n",
    "\n",
    "Alcuni vantaggi degli alberi decisionali sono:\n",
    "\n",
    "E' semplice da capire e da interpretare.\n",
    "Richiede poca preparazione dei dati. Altre tecniche richiedono spesso la normalizzazione dei dati, la creazione di variabili fittizie e la rimozione dei valori vuoti. Si noti tuttavia che questo modulo non supporta i valori mancanti.\n",
    "Il costo dell'utilizzo dell'albero (ovvero la previsione dei dati) è logaritmico rispetto al numero di punti utilizzati per addestrare l'albero.\n",
    "E' in grado di gestire dati sia numerici che categoriali. \n",
    "\n",
    "Gli svantaggi degli alberi decisionali includono:\n",
    "\n",
    "Gli utenti che apprendono l'albero decisionale possono creare alberi troppo complessi che non generalizzano bene i dati, 'overfittando'. Per evitare questo problema sono necessari meccanismi come la potatura, l'impostazione del numero minimo di campioni richiesto su un nodo o l'impostazione della profondità massima dell'albero.\n",
    "Gli alberi decisionali possono essere instabili perché piccole variazioni nei dati potrebbero comportare la generazione di un albero completamente diverso.\n",
    "\n",
    "Nel caso sotto riportato:\n",
    " - splitter {\"best\"}, default = \"best\"; La strategia utilizzata per scegliere la divisione in ogni nodo. \n",
    " - max_depthint, default=None ; La profondità massima dell'albero. Se è None, i nodi vengono espansi finché tutte    le foglie sono pure o finché tutte le foglie non contengono meno di min_samples_split \n",
    " - min_samples_split, default = 2 ;Il numero minimo di campioni necessari per dividere un nodo interno\n",
    " - max_leaf_nodes, default = None ; Fa crescere un albero con max_leaf_nodes in best-first. I nodi migliori sono     definiti come riduzione relativa dell'impurità. Se None, si ha un numero illimitato di nodi.\n",
    " \n",
    " \n",
    "Oltre la scelta del modello la funzione viene poi implementata come quella precedente"
   ]
  },
  {
   "cell_type": "code",
   "execution_count": 160,
   "metadata": {},
   "outputs": [],
   "source": [
    "def Decision_Tree(X_train,y_train,X_test,y_test):\n",
    "    \n",
    "    model=tree.DecisionTreeRegressor(splitter=\"best\",max_depth=18, min_samples_split=5, max_leaf_nodes=50,)\n",
    "    model.fit(X_train,y_train)\n",
    "  \n",
    "    y_pred=model.predict(X_train)\n",
    "    mae_train,mse_train,r2_train=metrics(y_train,y_pred)\n",
    "  \n",
    "    y_pred=model.predict(X_test)\n",
    "    mae_test,mse_test,r2_test=metrics(y_test,y_pred)\n",
    "  \n",
    "    results=pd.DataFrame(columns=[\"MAE Train\",\"MSE Train\", \"R2 Train\",\"MAE Test\",\"MSE Test\", \"R2 Test\"])\n",
    "    results.loc[len(results)]=[mae_train,mse_train,r2_train,mae_test,mse_test,r2_test]\n",
    "    plotting(results,\"Decision Tree\")\n",
    "  \n",
    "    print(f'Decision Tree: Mae train:  {mae_train} - Mse train:   {mse_train} - R2 train:   {r2_train}')\n",
    "    print(f'Decision Tree: Mae test:  {mae_test} - Mse test:   {mse_test} - R2 test:   {r2_test}')       "
   ]
  },
  {
   "cell_type": "markdown",
   "metadata": {},
   "source": [
    "## Neural Net\n",
    "MLP (Percettore multistrato) è un algoritmo di apprendimento supervisionato che apprende una funzione\n",
    "eseguendo l'addestramento su un set di dati, dove m è il numero di dimensioni per l'input e k il numero di dimensioni per l'output. <br/>\n",
    "Dato un insieme di features e un target, può apprendere un'approssimazione di funzione non lineare sia per la classificazione che per la regressione. <br/>\n",
    "Parametri scelti:\n",
    "- hidden_layer_sizes tuple, length = n_layers - 2, default = (100,)\n",
    "  L'i esimo elemento rappresenta il numero di neuroni nell'i esimo strato nascosto\n",
    "-  solver {\"lbfgs\", \"sgd\", \"adam\"}, default = \"adam\" ; Il risolutore per l'ottimizzazione del peso. \"Adam\" si       riferisce a un ottimizzatore basato su gradiente stocastico.\n"
   ]
  },
  {
   "cell_type": "code",
   "execution_count": 161,
   "metadata": {},
   "outputs": [],
   "source": [
    "def Neural_Net(X_train,y_train,X_test,y_test):\n",
    "  \n",
    "    model=MLPRegressor(hidden_layer_sizes=(200,200),solver=\"adam\")\n",
    "    model.fit(X_train,y_train)\n",
    "  \n",
    "    y_pred=model.predict(X_train)\n",
    "    mae_train,mse_train,r2_train=metrics(y_train,y_pred)\n",
    "  \n",
    "    y_pred=model.predict(X_test)\n",
    "    mae_test,mse_test,r2_test=metrics(y_test,y_pred)\n",
    "  \n",
    "    results=pd.DataFrame(columns=[\"MAE Train\",\"MSE Train\", \"R2 Train\",\"MAE Test\",\"MSE Test\", \"R2 Test\"])\n",
    "    results.loc[len(results)]=[mae_train,mse_train,r2_train,mae_test,mse_test,r2_test]\n",
    "    plotting(results,\"Neural Net\")\n",
    "  \n",
    "    print(f'Neural Net: Mae train:  {mae_train} - Mse train:   {mse_train} - R2 train:   {r2_train}')\n",
    "    print(f'Neural Net: Mae test: {mae_test} - Mse test:   {mse_test} - R2 test:   {r2_test}')"
   ]
  },
  {
   "cell_type": "markdown",
   "metadata": {},
   "source": [
    "Al di sotto le funzioni per calcolare le performance e plottare i grafici"
   ]
  },
  {
   "cell_type": "code",
   "execution_count": 162,
   "metadata": {},
   "outputs": [],
   "source": [
    "def metrics(y,y_pred):\n",
    "  \n",
    "    mae=mean_absolute_error(y, y_pred)\n",
    "    mse=mean_squared_error(y, y_pred)\n",
    "    r2=r2_score(y, y_pred)\n",
    "  \n",
    "    return mae,mse,r2"
   ]
  },
  {
   "cell_type": "code",
   "execution_count": 166,
   "metadata": {},
   "outputs": [],
   "source": [
    "def plotting(results, name):\n",
    "  \n",
    "    fig,axes=plt.subplots(3,1, figsize=(10,15))\n",
    " \n",
    "    plt.style.use(['dark_background'])\n",
    "    plt.suptitle(name, fontsize=20)\n",
    "    plt.subplots_adjust(left=0.4, top=0.9, right=0.9, bottom=0.1, hspace=0.9)\n",
    "    results[[\"MAE Train\",\"MAE Test\"]].plot(kind=\"bar\",ax=axes[0],logy=True,  colormap='bwr')\n",
    "    axes[0].set_title(\"MAE\")\n",
    "    results[[\"MSE Train\",\"MSE Test\"]].plot(kind=\"bar\",ax=axes[1], logy=True, colormap='bwr')\n",
    "    axes[1].set_title(\"MSE\")\n",
    "    results[[\"R2 Train\",\"R2 Test\"]].plot(kind=\"bar\",ax=axes[2], logy=True, colormap='bwr')\n",
    "    axes[2].set_title(\"R2\")\n",
    "    plt.show()"
   ]
  },
  {
   "cell_type": "code",
   "execution_count": 168,
   "metadata": {},
   "outputs": [
    {
     "data": {
      "image/png": "[encoded data removed]",
      "text/plain": [
       "<Figure size 720x1080 with 3 Axes>"
      ]
     },
     "metadata": {},
     "output_type": "display_data"
    },
    {
     "name": "stdout",
     "output_type": "stream",
     "text": [
      "Linear Regression: Mae train:  6.87817962996155e-16 - Mse train:   9.594333559209447e-31 - R2 train:   1.0\n",
      "Linear Regression: Mae test:  6.725493241039397e-16 - Mse test:   9.740630177100308e-31 - R2 test:   1.0\n"
     ]
    },
    {
     "data": {
      "image/png": "[encoded data removed]",
      "text/plain": [
       "<Figure size 720x1080 with 3 Axes>"
      ]
     },
     "metadata": {},
     "output_type": "display_data"
    },
    {
     "name": "stdout",
     "output_type": "stream",
     "text": [
      "Decision Tree: Mae train:  0.31405189940651884 - Mse train:   0.23213460228232335 - R2 train:   0.7678653977176765\n",
      "Decision Tree: Mae test:  0.4093168136125187 - Mse test:   0.3976426551346796 - R2 test:   0.6023573448653202\n"
     ]
    },
    {
     "data": {
      "image/png": "[encoded data removed]",
      "text/plain": [
       "<Figure size 720x1080 with 3 Axes>"
      ]
     },
     "metadata": {},
     "output_type": "display_data"
    },
    {
     "name": "stdout",
     "output_type": "stream",
     "text": [
      "Neural Net: Mae train:  0.036854511285942394 - Mse train:   0.0029361858292775685 - R2 train:   0.9970638141707223\n",
      "Neural Net: Mae test: 0.04781059727488557 - Mse test:   0.005375422990150749 - R2 test:   0.9946245770098494\n"
     ]
    }
   ],
   "source": [
    "main2()"
   ]
  },
  {
   "cell_type": "markdown",
   "metadata": {},
   "source": []
  }
 ],
 "metadata": {
  "kernelspec": {
   "display_name": "Python 3",
   "language": "python",
   "name": "python3"
  },
  "language_info": {
   "codemirror_mode": {
    "name": "ipython",
    "version": 3
   },
   "file_extension": ".py",
   "mimetype": "text/x-python",
   "name": "python",
   "nbconvert_exporter": "python",
   "pygments_lexer": "ipython3",
   "version": "3.8.3"
  }
 },
 "nbformat": 4,
 "nbformat_minor": 4
}
